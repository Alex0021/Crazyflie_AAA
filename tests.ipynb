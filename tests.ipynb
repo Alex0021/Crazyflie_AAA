{
 "cells": [
  {
   "cell_type": "code",
   "execution_count": 14,
   "metadata": {},
   "outputs": [],
   "source": [
    "import matplotlib.pyplot as plt\n",
    "import numpy as np\n",
    "\n",
    "%matplotlib qt\n",
    "\n",
    "pos_dict = np.load('pos_hist.npy', allow_pickle=True).item()\n",
    "\n",
    "fig, axs = plt.subplots(3,1, sharex=True)\n",
    "h = [p[2] for p in pos_dict['height']]\n",
    "dh = [p[2] for p in pos_dict['dheight']]\n",
    "ddh = [p[2] for p in pos_dict['ddheight']]\n",
    "\n",
    "np.where(np.absolute(dh) » 0.3)\n",
    "\n",
    "axs[0].scatter(np.arange(-len(h)+1, 1), h, label='height', s=5)\n",
    "axs[0].set_title('Height')\n",
    "axs[1].scatter(np.arange(-len(dh)+1, 1), dh, label='dheight', s=5)\n",
    "axs[1].set_title('dHeight')\n",
    "axs[2].scatter(np.arange(-len(ddh)+1, 1), ddh, label='ddheight', s=5)\n",
    "axs[2].set_title('ddHeight')\n",
    "fig.tight_layout()"
   ]
  }
 ],
 "metadata": {
  "kernelspec": {
   "display_name": "venv",
   "language": "python",
   "name": "python3"
  },
  "language_info": {
   "codemirror_mode": {
    "name": "ipython",
    "version": 3
   },
   "file_extension": ".py",
   "mimetype": "text/x-python",
   "name": "python",
   "nbconvert_exporter": "python",
   "pygments_lexer": "ipython3",
   "version": "3.10.12"
  }
 },
 "nbformat": 4,
 "nbformat_minor": 2
}
