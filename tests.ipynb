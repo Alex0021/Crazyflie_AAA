{
 "cells": [
  {
   "cell_type": "code",
   "execution_count": null,
   "metadata": {},
   "outputs": [],
   "source": [
    "import matplotlib.pyplot as plt\n",
    "import numpy as np\n",
    "\n",
    "pos_dict = np.load('controllers/main/pos_hist.npy', allow_pickle=True).item()\n",
    "\n",
    "fig, axs = plt.subplots(3,1, sharex=True)\n",
    "h = [p[2] for p in pos_dict['height']]\n",
    "dh = [p[2] for p in pos_dict['dheight']]\n",
    "ddh = [p[2] for p in pos_dict['ddheight']]\n",
    "axs[0].plot(np.arange(-len(h)+1, 1), h, label='height')\n",
    "axs[0].set_title('Height')\n",
    "axs[1].plot(np.arange(-len(dh)+1, 1), dh, label='dheight')\n",
    "axs[1].set_title('dHeight')\n",
    "axs[2].plot(np.arange(-len(ddh)+1, 1), ddh, label='ddheight')\n",
    "axs[2].set_title('ddHeight')\n",
    "fig.tight_layout()"
   ]
  }
 ],
 "metadata": {
  "language_info": {
   "name": "python"
  }
 },
 "nbformat": 4,
 "nbformat_minor": 2
}
